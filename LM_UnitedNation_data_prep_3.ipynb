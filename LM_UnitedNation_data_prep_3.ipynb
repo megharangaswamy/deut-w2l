{
 "cells": [
  {
   "cell_type": "code",
   "execution_count": 24,
   "metadata": {
    "collapsed": true
   },
   "outputs": [],
   "source": [
    "import webvtt\n",
    "from os import listdir\n",
    "from os.path import isfile, join\n",
    "import pandas as pd\n",
    "from pydub import AudioSegment\n",
    "import os\n",
    "import shutil\n",
    "import natsort \n",
    "import sys, nltk\n",
    "import codecs"
   ]
  },
  {
   "cell_type": "code",
   "execution_count": 25,
   "metadata": {
    "collapsed": true
   },
   "outputs": [],
   "source": [
    "rootdir = \"/media/home/megha/7_LM_data/UnitedNation_LM_data\""
   ]
  },
  {
   "cell_type": "code",
   "execution_count": 26,
   "metadata": {},
   "outputs": [],
   "source": [
    "punctuations = '''!,.?abcdefghijklmnopqrstuvwxyzäüößABCDEFGHIJKLMNOPQRSTUVWXYZÄÜÖẞ '''\n",
    "between_digits = ''',.0123456789'''\n",
    "\n",
    "with open(\"/home/megha/Desktop/LM/UnitedNation.txt\", \"a\") as write_file:\n",
    "    for Dir in natsort.natsorted(os.listdir(rootdir)):\n",
    "        for file in natsort.natsorted(os.listdir(rootdir+\"/\"+Dir)):\n",
    "            if(file[-6:] == \"de.snt\"):\n",
    "                with codecs.open(rootdir+\"/\"+Dir+\"/\"+file, 'r', encoding='utf8') as f:\n",
    "                    line = f.readline()\n",
    "                    cnt = 0\n",
    "                    while line:\n",
    "                        no_punct = \"\"\n",
    "                        i = 0\n",
    "                        while i < len(line):\n",
    "                            if(i != (len(line)-1)):\n",
    "                                if((line[i].isdigit() and line[i+1] in between_digits) or (line[i] in between_digits and line[i+1].isdigit())):\n",
    "                                    i = i+1\n",
    "                                else:\n",
    "                                    if line[i] in punctuations:\n",
    "                                        no_punct = no_punct + line[i]\n",
    "                            else:\n",
    "                                if line[i] in punctuations:\n",
    "                                    no_punct = no_punct + line[i]\n",
    "                            i += 1\n",
    "                        for sentence in nltk.sent_tokenize(no_punct):\n",
    "                            line_mid = ' '.join(nltk.word_tokenize(sentence)).lower()\n",
    "                            if(line_mid != \".\"):\n",
    "                                write_file.write(line_mid+'\\n')  \n",
    "                                #print(line_mid)\n",
    "                                #print('------------------------------------')\n",
    "                        line = f.readline()        \n",
    "                        cnt += 1"
   ]
  }
 ],
 "metadata": {
  "kernelspec": {
   "display_name": "py_36_env",
   "language": "python",
   "name": "py_36_env"
  },
  "language_info": {
   "codemirror_mode": {
    "name": "ipython",
    "version": 3
   },
   "file_extension": ".py",
   "mimetype": "text/x-python",
   "name": "python",
   "nbconvert_exporter": "python",
   "pygments_lexer": "ipython3",
   "version": "3.6.5"
  }
 },
 "nbformat": 4,
 "nbformat_minor": 2
}
