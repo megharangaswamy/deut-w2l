{
 "cells": [
  {
   "cell_type": "code",
   "execution_count": null,
   "metadata": {},
   "outputs": [],
   "source": [
    "import webvtt\n",
    "from os import listdir\n",
    "from os.path import isfile, join\n",
    "import pandas as pd\n",
    "from pydub import AudioSegment\n",
    "import os\n",
    "import shutil\n",
    "import natsort "
   ]
  },
  {
   "cell_type": "code",
   "execution_count": null,
   "metadata": {},
   "outputs": [],
   "source": [
    "#Zamia data - Preprocessing\n",
    "\n",
    "\n",
    "\"\"\"\n",
    "converting all audio to wav file with the following specification. \n",
    "    -flac files with 16-bit\n",
    "    -16 kHz\n",
    "    -mono \n",
    "\"\"\"\n",
    "A = \"/media/home/megha/5_wav2letter/WAV_2_LETTER/wav2letter/tutorials/0_deutsch_data/Dataset_2_Zamia/A\"\n",
    "E = \"/media/home/megha/5_wav2letter/WAV_2_LETTER/wav2letter/tutorials/0_deutsch_data/Dataset_2_Zamia/E\"\n",
    "F = \"/media/home/megha/5_wav2letter/WAV_2_LETTER/wav2letter/tutorials/0_deutsch_data/Dataset_2_Zamia/F\"\n",
    "G = \"/media/home/megha/5_wav2letter/WAV_2_LETTER/wav2letter/tutorials/0_deutsch_data/Dataset_2_Zamia/G\"\n",
    "H = \"/media/home/megha/5_wav2letter/WAV_2_LETTER/wav2letter/tutorials/0_deutsch_data/Dataset_2_Zamia/H\"\n",
    "J = \"/media/home/megha/5_wav2letter/WAV_2_LETTER/wav2letter/tutorials/0_deutsch_data/Dataset_2_Zamia/J\"\n",
    "K = \"/media/home/megha/5_wav2letter/WAV_2_LETTER/wav2letter/tutorials/0_deutsch_data/Dataset_2_Zamia/K\"\n",
    "M = \"/media/home/megha/5_wav2letter/WAV_2_LETTER/wav2letter/tutorials/0_deutsch_data/Dataset_2_Zamia/M\"\n",
    "O = \"/media/home/megha/5_wav2letter/WAV_2_LETTER/wav2letter/tutorials/0_deutsch_data/Dataset_2_Zamia/O\"\n",
    "R = \"/media/home/megha/5_wav2letter/WAV_2_LETTER/wav2letter/tutorials/0_deutsch_data/Dataset_2_Zamia/R\"\n",
    "AT = \"/media/home/megha/5_wav2letter/WAV_2_LETTER/wav2letter/tutorials/0_deutsch_data/Dataset_2_Zamia/A_test\"\n",
    "\n",
    "rootdir = G\n",
    "\n"
   ]
  },
  {
   "cell_type": "code",
   "execution_count": null,
   "metadata": {},
   "outputs": [],
   "source": [
    "for Dir in natsort.natsorted(os.listdir(rootdir)):\n",
    "    print(Dir)\n",
    "    for file in natsort.natsorted(os.listdir(rootdir+\"/\"+Dir)):\n",
    "        if(file.endswith(\".wav\")):\n",
    "            print(file)\n",
    "            file_name = file[:-4]            \n",
    "            a = os.system('ffmpeg -i \"{}\" -acodec pcm_s16le -ac 1 -ar 16000 \"{}/{}.wav\"'.format(rootdir+\"/\"+Dir+\"/\"+file, rootdir+\"/\"+Dir+\"/a\",file_name))\n",
    "            #os.remove(rootdir+\"/\"+Dir+\"/\"+file)\n",
    "            print(a)\n",
    "            os.rename(rootdir+\"/\"+Dir+\"/a/\"+file,rootdir+\"/\"+Dir+\"/a/\"+file_name+\".flac\")\n",
    "            "
   ]
  },
  {
   "cell_type": "code",
   "execution_count": null,
   "metadata": {},
   "outputs": [],
   "source": [
    "for Dir in natsort.natsorted(os.listdir(rootdir)):\n",
    "    for subdir in natsort.natsorted(os.listdir(rootdir+\"/\"+Dir)):\n",
    "        print(\"----------------------\"+subdir+\"---------------------\")\n",
    "        length = len(os.listdir(rootdir+\"/\"+Dir+\"/\"+subdir))\n",
    "        if(length > 2):\n",
    "            print(\"file already converted\")\n",
    "        else:\n",
    "            for file in os.listdir(rootdir+\"/\"+Dir+\"/\"+subdir): \n",
    "                if(file.endswith(\".wav\")):\n",
    "                    actual_filename = file[:-4]+\"_C\"\n",
    "                    a = os.system('ffmpeg -i \"{}\" -acodec pcm_s16le -ac 1 -ar 16000 \"{}/{}\".wav'.format(rootdir+\"/\"+Dir+\"/\"+subdir+\"/\"+file, rootdir+\"/\"+Dir+\"/\"+subdir, actual_filename))# (source,target(half path),name_of_file)\n",
    "                    print(a)\n",
    "                    if(a==256):\n",
    "                        print(\"Did not get converted\")"
   ]
  }
 ],
 "metadata": {
  "kernelspec": {
   "display_name": "py_36_env",
   "language": "python",
   "name": "py_36_env"
  },
  "language_info": {
   "codemirror_mode": {
    "name": "ipython",
    "version": 3
   },
   "file_extension": ".py",
   "mimetype": "text/x-python",
   "name": "python",
   "nbconvert_exporter": "python",
   "pygments_lexer": "ipython3",
   "version": "3.6.5"
  }
 },
 "nbformat": 4,
 "nbformat_minor": 2
}
