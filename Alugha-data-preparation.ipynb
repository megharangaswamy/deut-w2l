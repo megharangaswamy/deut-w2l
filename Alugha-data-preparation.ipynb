{
 "cells": [
  {
   "cell_type": "code",
   "execution_count": null,
   "metadata": {
    "collapsed": true
   },
   "outputs": [],
   "source": [
    "import webvtt\n",
    "from os import listdir\n",
    "from os.path import isfile, join\n",
    "import pandas as pd\n",
    "from pydub import AudioSegment\n",
    "import os\n",
    "import shutil\n",
    "import natsort \n",
    "import fileinput\n",
    "import re"
   ]
  },
  {
   "cell_type": "code",
   "execution_count": null,
   "metadata": {
    "collapsed": true
   },
   "outputs": [],
   "source": [
    "rootdir=\"../Alugha/pre-data\"\n",
    "backup = \"../Alugha/backup\" # place holder for backup data\n"
   ]
  },
  {
   "cell_type": "code",
   "execution_count": null,
   "metadata": {
    "collapsed": true
   },
   "outputs": [],
   "source": [
    "\"\"\"\n",
    "1. Alugha\n",
    "\n",
    "step 1: Audio convertion\n",
    "step 2: Deleting original file\n",
    "step 3: Extracting segment information from .vtt filr and spliting the audio based on segment information.\n",
    "\n",
    "\"\"\"\n",
    "\n",
    "# (a) Audio convertion: -wav, 16K Hz, mono channel   \n",
    "if True:\n",
    "    for Dir in natsort.natsorted(os.listdir(rootdir)):\n",
    "        print(Dir)        \n",
    "        length = len(os.listdir(rootdir+\"/\"+Dir))\n",
    "        print(length)\n",
    "        if(length > 2):\n",
    "            print(\"file already converted\")\n",
    "        else:\n",
    "            for file in os.listdir(rootdir+\"/\"+Dir): \n",
    "                if(file.endswith(\".mp4\")):\n",
    "                    actual_filename = file[:-4]+\"_C\"\n",
    "                    a = os.system('ffmpeg -i \"{}\" -acodec pcm_s16le -ac 1 -ar 16000 \"{}/{}\".wav'.format(rootdir+\"/\"+Dir+\"/\"+file, rootdir+\"/\"+Dir+\"/\", actual_filename))\n",
    "                    if(a==256):\n",
    "                        print(\"Did not get converted\")\n",
    "#(b) Deleting original file\n",
    "if True: \n",
    "    for Dir in natsort.natsorted(os.listdir(rootdir)):\n",
    "            length = len(os.listdir(rootdir+\"/\"+Dir))\n",
    "            if(length > 2):\n",
    "                for file in os.listdir(rootdir+\"/\"+Dir):\n",
    "                    if(file.endswith(\".wav\") and file.split('_')[-1]!=\"C.wav\"):\n",
    "                        os.remove(rootdir+\"/\"+Dir+\"/\"+file) \n",
    "                    if(file.endswith(\".mp4\")):\n",
    "                        os.remove(rootdir+\"/\"+Dir+\"/\"+file)\n",
    "            if(length == 2):\n",
    "                print(\" is being removed\")                \n",
    "                shutil.move(rootdir+\"/\"+Dir, backup)\n",
    "\n",
    "                \n",
    "# (c) creating chunks and saving in the same folder\n",
    "if True:\n",
    "    for Dir in os.listdir(rootdir):\n",
    "        df  = pd.DataFrame(columns = ['A', 'B', 'C'])\n",
    "        for file in os.listdir(rootdir+\"/\"+Dir):\n",
    "            if(file.endswith(\".vtt\")):                \n",
    "                for caption in webvtt.read(rootdir+\"/\"+Dir+\"/\"+file):\n",
    "                    df2 = pd.DataFrame([[caption.start,caption.end,caption.text]], columns=list('ABC'))\n",
    "                    df = df.append(df2)\n",
    "                df = df.rename(index=str, columns={\"A\": \"start\", \"B\": \"end\",\"C\" : \"text\"})\n",
    "        for file in os.listdir(rootdir+\"/\"+Dir):\n",
    "            if(file.endswith(\".wav\") and file.split('_')[-1]==\"C.wav\"):                \n",
    "                myaudio = AudioSegment.from_file(rootdir+\"/\"+Dir+\"/\"+file, \"wav\")\n",
    "                for i in range(0, len(df)):\n",
    "                    start_time = df['start'].iloc[i]\n",
    "                    end_time = df['end'].iloc[i]\n",
    "                    # -----------------------------START-TIME-----------------------------------\n",
    "                    s_hours, s_minutes, s_seconds = ([\"0\", \"0\"] + start_time.split(\":\"))[-3:]\n",
    "                    s_hours = int(s_hours)\n",
    "                    s_minutes = int(s_minutes)\n",
    "                    s_seconds = float(s_seconds)\n",
    "                    s_millisecond = int(3600000 * s_hours + 60000 * s_minutes + 1000 * s_seconds)\n",
    "                    START = s_millisecond\n",
    "                    #-------------------------------END-TIME---------------------------------------\n",
    "                    e_hours, e_minutes, e_seconds = ([\"0\", \"0\"] + end_time.split(\":\"))[-3:]\n",
    "                    e_hours = int(e_hours)\n",
    "                    e_minutes = int(e_minutes)\n",
    "                    e_seconds = float(e_seconds)\n",
    "                    e_miliseconds = int(3600000 * e_hours + 60000 * e_minutes + 1000 * e_seconds)\n",
    "                    END = e_miliseconds\n",
    "                    #--------------------------------------------------------------------------\n",
    "                    chunk = myaudio[START:END]\n",
    "                    chunk_name = file.split('.')[-2]+\"_\"+str(i)+\".flac\"\n",
    "                    if not os.path.exists(rootdir+\"/\"+Dir+\"/\"+chunk_name):\n",
    "                        print(\"exporting\", chunk_name)\n",
    "                        chunk.export(rootdir+\"/\"+Dir+\"/\"+chunk_name, format=\"flac\")\n",
    "                if not os.path.exists(backup+\"/\"+file):\n",
    "                    shutil.move(rootdir+\"/\"+Dir+\"/\"+file, backup)\n",
    "                    print(\"Backing up\")\n",
    "                else:\n",
    "                    os.remove(rootdir+\"/\"+Dir+\"/\"+file)\n",
    "                    print(\"File already exist. So just removing\")\n",
    "        #----------------------------------------------txt--------------------------\n",
    "        txt_name = \"\"        \n",
    "        for file in natsort.natsorted(os.listdir(rootdir+\"/\"+Dir)):\n",
    "            if(file.endswith(\".vtt\")):\n",
    "                txt_name = file.split(\".\")[-2]\n",
    "        with open(rootdir+\"/\"+Dir+\"/\"+txt_name+\"_C.trans.txt\", \"w\") as txt_file:\n",
    "            i=0\n",
    "            for file in natsort.natsorted(os.listdir(rootdir+\"/\"+Dir)):                \n",
    "                if(file.endswith(\".flac\")):\n",
    "                    wav_file_name = file.split(\".\")[-2]\n",
    "                    txt_file.write(wav_file_name+\" \"+df['text'].iloc[i].upper()+\"\\n\")\n",
    "                    i = i+1\n",
    "        for file in natsort.natsorted(os.listdir(rootdir+\"/\"+Dir)):\n",
    "            if(file.endswith(\".vtt\")):\n",
    "                if not os.path.exists(backup+\"/\"+file):\n",
    "                    shutil.move(rootdir+\"/\"+Dir+\"/\"+file, backup)\n",
    "                else:\n",
    "                    os.remove(rootdir+\"/\"+Dir+\"/\"+file)\n",
    "                    print(\"File already exist. So just removing\")"
   ]
  },
  {
   "cell_type": "code",
   "execution_count": null,
   "metadata": {
    "collapsed": true
   },
   "outputs": [],
   "source": []
  }
 ],
 "metadata": {
  "kernelspec": {
   "display_name": "py_36_env",
   "language": "python",
   "name": "py_36_env"
  },
  "language_info": {
   "codemirror_mode": {
    "name": "ipython",
    "version": 3
   },
   "file_extension": ".py",
   "mimetype": "text/x-python",
   "name": "python",
   "nbconvert_exporter": "python",
   "pygments_lexer": "ipython3",
   "version": "3.6.5"
  }
 },
 "nbformat": 4,
 "nbformat_minor": 2
}
