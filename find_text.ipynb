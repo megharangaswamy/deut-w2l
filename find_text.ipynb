{
 "cells": [
  {
   "cell_type": "code",
   "execution_count": 2,
   "metadata": {},
   "outputs": [],
   "source": [
    "from os import listdir\n",
    "from os.path import isfile, join\n",
    "import pandas as pd\n",
    "#from pydub import AudioSegment\n",
    "import os\n",
    "import shutil\n",
    "import natsort \n",
    "import wave\n",
    "import codecs\n",
    "import xml.etree.ElementTree as ET"
   ]
  },
  {
   "cell_type": "code",
   "execution_count": 7,
   "metadata": {},
   "outputs": [],
   "source": [
    "rootdir1= \"/media/home/megha/5_wav2letter/WAV_2_LETTER/wav2letter/tutorials/output/data/train-clean-100\"\n",
    "rootdir2 = \"/home/megha/Desktop/c\"\n",
    "rootdir = \"/media/home/megha/5_wav2letter/WAV_2_LETTER/wav2letter/tutorials/0_deutsch_data/final_combine/train-clean-100\""
   ]
  },
  {
   "cell_type": "code",
   "execution_count": 1,
   "metadata": {},
   "outputs": [
    {
     "ename": "NameError",
     "evalue": "name 'natsort' is not defined",
     "output_type": "error",
     "traceback": [
      "\u001b[0;31m---------------------------------------------------------------------------\u001b[0m",
      "\u001b[0;31mNameError\u001b[0m                                 Traceback (most recent call last)",
      "\u001b[0;32m<ipython-input-1-305ca93a8274>\u001b[0m in \u001b[0;36m<module>\u001b[0;34m\u001b[0m\n\u001b[1;32m      1\u001b[0m \u001b[0;32mif\u001b[0m \u001b[0;32mTrue\u001b[0m\u001b[0;34m:\u001b[0m \u001b[0;31m#False  True\u001b[0m\u001b[0;34m\u001b[0m\u001b[0m\n\u001b[0;32m----> 2\u001b[0;31m     \u001b[0;32mfor\u001b[0m \u001b[0mDir\u001b[0m \u001b[0;32min\u001b[0m \u001b[0mnatsort\u001b[0m\u001b[0;34m.\u001b[0m\u001b[0mnatsorted\u001b[0m\u001b[0;34m(\u001b[0m\u001b[0mos\u001b[0m\u001b[0;34m.\u001b[0m\u001b[0mlistdir\u001b[0m\u001b[0;34m(\u001b[0m\u001b[0mrootdir\u001b[0m\u001b[0;34m)\u001b[0m\u001b[0;34m)\u001b[0m\u001b[0;34m:\u001b[0m\u001b[0;34m\u001b[0m\u001b[0m\n\u001b[0m\u001b[1;32m      3\u001b[0m         \u001b[0;31m#print(Dir)\u001b[0m\u001b[0;34m\u001b[0m\u001b[0;34m\u001b[0m\u001b[0m\n\u001b[1;32m      4\u001b[0m         \u001b[0;32mfor\u001b[0m \u001b[0msubDir\u001b[0m \u001b[0;32min\u001b[0m \u001b[0mnatsort\u001b[0m\u001b[0;34m.\u001b[0m\u001b[0mnatsorted\u001b[0m\u001b[0;34m(\u001b[0m\u001b[0mos\u001b[0m\u001b[0;34m.\u001b[0m\u001b[0mlistdir\u001b[0m\u001b[0;34m(\u001b[0m\u001b[0mrootdir\u001b[0m\u001b[0;34m+\u001b[0m\u001b[0;34m\"/\"\u001b[0m\u001b[0;34m+\u001b[0m\u001b[0mDir\u001b[0m\u001b[0;34m)\u001b[0m\u001b[0;34m)\u001b[0m\u001b[0;34m:\u001b[0m\u001b[0;34m\u001b[0m\u001b[0m\n\u001b[1;32m      5\u001b[0m             \u001b[0;31m#print(subDir)\u001b[0m\u001b[0;34m\u001b[0m\u001b[0;34m\u001b[0m\u001b[0m\n",
      "\u001b[0;31mNameError\u001b[0m: name 'natsort' is not defined"
     ]
    }
   ],
   "source": [
    "if True: #False  True\n",
    "    for Dir in natsort.natsorted(os.listdir(rootdir)):\n",
    "        #print(Dir)\n",
    "        for subDir in natsort.natsorted(os.listdir(rootdir+\"/\"+Dir)):\n",
    "            #print(subDir)\n",
    "            for file in natsort.natsorted(os.listdir(rootdir+\"/\"+Dir+\"/\"+subDir)):\n",
    "                if(file.endswith(\".txt\")):\n",
    "                    file1 = open(rootdir+\"/\"+Dir+\"/\"+subDir+\"/\"+file)\n",
    "                    strings = file1.read()\n",
    "                    search_word = \"STEINADLER SIND ERST AB DEM FÜNFTEN BIS SIEBTEN LEBENSJAHR VOLL AUSGEFÄRBT\"\n",
    "                    if(search_word in strings):\n",
    "                        #print(\"word found\")\n",
    "                        #print(Dir)\n",
    "                        print(subDir)\n",
    "            #print('--------------------------------------------------')"
   ]
  },
  {
   "cell_type": "code",
   "execution_count": null,
   "metadata": {},
   "outputs": [],
   "source": [
    "#    cp ./000081677.id /home/megha/Desktop/a   (STEINADLER SIND ERST AB DEM FÜNFTEN BIS SIEBTEN LEBENSJAHR VOLL AUSGEFÄRBT)\n",
    "#   cp ./000048608.flac /home/megha/Desktop/a    (das eigentliche rückgrat der verwaltung bildeten allerdings die städte des imperiums die als halbautonome bürgergemeinden organisiert waren und insbesondere für die steuererhebung zuständig waren)\n",
    "       "
   ]
  },
  {
   "cell_type": "code",
   "execution_count": 2,
   "metadata": {},
   "outputs": [
    {
     "ename": "NameError",
     "evalue": "name 'natsort' is not defined",
     "output_type": "error",
     "traceback": [
      "\u001b[0;31m---------------------------------------------------------------------------\u001b[0m",
      "\u001b[0;31mNameError\u001b[0m                                 Traceback (most recent call last)",
      "\u001b[0;32m<ipython-input-2-87036f86d881>\u001b[0m in \u001b[0;36m<module>\u001b[0;34m\u001b[0m\n\u001b[1;32m      1\u001b[0m \u001b[0;32mif\u001b[0m \u001b[0;32mTrue\u001b[0m\u001b[0;34m:\u001b[0m \u001b[0;31m#False  True\u001b[0m\u001b[0;34m\u001b[0m\u001b[0m\n\u001b[0;32m----> 2\u001b[0;31m     \u001b[0;32mfor\u001b[0m \u001b[0mDir\u001b[0m \u001b[0;32min\u001b[0m \u001b[0mnatsort\u001b[0m\u001b[0;34m.\u001b[0m\u001b[0mnatsorted\u001b[0m\u001b[0;34m(\u001b[0m\u001b[0mos\u001b[0m\u001b[0;34m.\u001b[0m\u001b[0mlistdir\u001b[0m\u001b[0;34m(\u001b[0m\u001b[0mrootdir\u001b[0m\u001b[0;34m)\u001b[0m\u001b[0;34m)\u001b[0m\u001b[0;34m:\u001b[0m\u001b[0;34m\u001b[0m\u001b[0m\n\u001b[0m\u001b[1;32m      3\u001b[0m         \u001b[0mprint\u001b[0m\u001b[0;34m(\u001b[0m\u001b[0mDir\u001b[0m\u001b[0;34m)\u001b[0m\u001b[0;34m\u001b[0m\u001b[0m\n\u001b[1;32m      4\u001b[0m         \u001b[0;32mfor\u001b[0m \u001b[0msubDir\u001b[0m \u001b[0;32min\u001b[0m \u001b[0mnatsort\u001b[0m\u001b[0;34m.\u001b[0m\u001b[0mnatsorted\u001b[0m\u001b[0;34m(\u001b[0m\u001b[0mos\u001b[0m\u001b[0;34m.\u001b[0m\u001b[0mlistdir\u001b[0m\u001b[0;34m(\u001b[0m\u001b[0mrootdir\u001b[0m\u001b[0;34m+\u001b[0m\u001b[0;34m\"/\"\u001b[0m\u001b[0;34m+\u001b[0m\u001b[0mDir\u001b[0m\u001b[0;34m)\u001b[0m\u001b[0;34m)\u001b[0m\u001b[0;34m:\u001b[0m\u001b[0;34m\u001b[0m\u001b[0m\n\u001b[1;32m      5\u001b[0m             \u001b[0mprint\u001b[0m\u001b[0;34m(\u001b[0m\u001b[0msubDir\u001b[0m\u001b[0;34m)\u001b[0m\u001b[0;34m\u001b[0m\u001b[0m\n",
      "\u001b[0;31mNameError\u001b[0m: name 'natsort' is not defined"
     ]
    }
   ],
   "source": [
    "if True: #False  True\n",
    "    for Dir in natsort.natsorted(os.listdir(rootdir)):\n",
    "        print(Dir)\n",
    "        for subDir in natsort.natsorted(os.listdir(rootdir+\"/\"+Dir)):\n",
    "            print(subDir)\n",
    "            for file in natsort.natsorted(os.listdir(rootdir+\"/\"+Dir+\"/\"+subDir)):\n",
    "                if(file.endswith(\".txt\")):\n",
    "                    print(file)\n",
    "                    with codecs.open(rootdir+\"/\"+Dir+\"/\"+subDir+\"/\"+file, 'r', encoding='utf8') as f:\n",
    "                        line = f.readline()\n",
    "                        cnt = 1\n",
    "                        while line:\n",
    "                            each_line = line.strip()\n",
    "                            if('eigentliche' in each_line):\n",
    "                                print(\"exist in this file\")\n",
    "                        #print(file)                    "
   ]
  },
  {
   "cell_type": "code",
   "execution_count": null,
   "metadata": {},
   "outputs": [],
   "source": [
    "#   000087718.flac\n",
    "#   000081677.flac"
   ]
  }
 ],
 "metadata": {
  "kernelspec": {
   "display_name": "py_36_env",
   "language": "python",
   "name": "py_36_env"
  },
  "language_info": {
   "codemirror_mode": {
    "name": "ipython",
    "version": 3
   },
   "file_extension": ".py",
   "mimetype": "text/x-python",
   "name": "python",
   "nbconvert_exporter": "python",
   "pygments_lexer": "ipython3",
   "version": "3.6.5"
  }
 },
 "nbformat": 4,
 "nbformat_minor": 2
}
