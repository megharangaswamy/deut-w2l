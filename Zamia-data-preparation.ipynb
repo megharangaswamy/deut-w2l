{
 "cells": [
  {
   "cell_type": "code",
   "execution_count": null,
   "metadata": {
    "collapsed": true
   },
   "outputs": [],
   "source": [
    "import webvtt\n",
    "from os import listdir\n",
    "from os.path import isfile, join\n",
    "import pandas as pd\n",
    "from pydub import AudioSegment\n",
    "import os\n",
    "import shutil\n",
    "import natsort \n",
    "import fileinput\n",
    "import re"
   ]
  },
  {
   "cell_type": "code",
   "execution_count": null,
   "metadata": {
    "collapsed": true
   },
   "outputs": [],
   "source": [
    "rootdir=\"../Zamia/pre-data\"\n",
    "backup = \"../Zamia/backup\" # place holder for backup data\n"
   ]
  },
  {
   "cell_type": "code",
   "execution_count": null,
   "metadata": {
    "collapsed": true
   },
   "outputs": [],
   "source": [
    "\"\"\"\n",
    "Zamia\n",
    "\n",
    "step 1: Manually downloaded audio from Zamia (https://goofy.zamia.org/zamia-speech/corpora/zamia_de/)\n",
    "Step 2: Audio convertion.\n",
    "\n",
    "As the data is in prefered folder structure, further preparation steps are not required.\n",
    "\"\"\"\n",
    "\n",
    "# (a) Audio convertion: -wav, 16K Hz, mono channel   \n",
    "if True:\n",
    "    for Dir in natsort.natsorted(os.listdir(rootdir)):\n",
    "    for subdir in natsort.natsorted(os.listdir(rootdir+\"/\"+Dir)):\n",
    "        length = len(os.listdir(rootdir+\"/\"+Dir+\"/\"+subdir))\n",
    "        if(length > 2):\n",
    "            print(\"file already converted\")\n",
    "        else:\n",
    "            for file in os.listdir(rootdir+\"/\"+Dir+\"/\"+subdir): \n",
    "                if(file.endswith(\".wav\")):\n",
    "                    actual_filename = file[:-4]+\"_C\"\n",
    "                    a = os.system('ffmpeg -i \"{}\" -acodec pcm_s16le -ac 1 -ar 16000 \"{}/{}\".wav'.format(rootdir+\"/\"+Dir+\"/\"+subdir+\"/\"+file, rootdir+\"/\"+Dir+\"/\"+subdir, actual_filename))\n",
    "                    print(a)\n",
    "                    if(a==256):\n",
    "                        print(\"Did not get converted\")"
   ]
  },
  {
   "cell_type": "code",
   "execution_count": null,
   "metadata": {
    "collapsed": true
   },
   "outputs": [],
   "source": []
  }
 ],
 "metadata": {
  "kernelspec": {
   "display_name": "py_36_env",
   "language": "python",
   "name": "py_36_env"
  },
  "language_info": {
   "codemirror_mode": {
    "name": "ipython",
    "version": 3
   },
   "file_extension": ".py",
   "mimetype": "text/x-python",
   "name": "python",
   "nbconvert_exporter": "python",
   "pygments_lexer": "ipython3",
   "version": "3.6.5"
  }
 },
 "nbformat": 4,
 "nbformat_minor": 2
}
