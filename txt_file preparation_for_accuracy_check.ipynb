{
 "cells": [
  {
   "cell_type": "code",
   "execution_count": 2,
   "metadata": {
    "collapsed": true
   },
   "outputs": [],
   "source": [
    "import webvtt\n",
    "from os import listdir\n",
    "from os.path import isfile, join\n",
    "import pandas as pd\n",
    "from pydub import AudioSegment\n",
    "import os\n",
    "import shutil\n",
    "import natsort \n",
    "import sys\n",
    "import re\n",
    "import fileinput\n",
    "import codecs"
   ]
  },
  {
   "cell_type": "code",
   "execution_count": 3,
   "metadata": {
    "collapsed": true
   },
   "outputs": [],
   "source": [
    "rootdir = \"/home/megha/Desktop\""
   ]
  },
  {
   "cell_type": "code",
   "execution_count": 20,
   "metadata": {},
   "outputs": [],
   "source": [
    "#Creating files to check accuracy\n",
    "if True: #False  True\n",
    "    for file in natsort.natsorted(os.listdir(rootdir)):\n",
    "        #for file in natsort.natsorted(os.listdir(rootdir+\"/\"+file)):\n",
    "        if(file.endswith(\".txt\")):\n",
    "            with codecs.open(rootdir+\"/\"+file, 'r', encoding='utf8') as f:\n",
    "                line = f.readline()\n",
    "                cnt = 0\n",
    "                while line:  \n",
    "                    #print(line)\n",
    "                    if \"|T|:\" in line:\n",
    "                        T = line.split(\"|T|:\",1)[-1]\n",
    "                        #print(T)\n",
    "                        with codecs.open(rootdir+\"/Result/\"+\"wav2Letter_T.txt\", \"a\", encoding='utf8') as T_file:\n",
    "                            T_file.write(T)\n",
    "                    if \"|P|:\" in line:\n",
    "                        P = line.split(\"|P|:\",1)[-1]\n",
    "                        #print(P)\n",
    "                        with codecs.open(rootdir+\"/Result/\"+\"wav2Letter_P.txt\", \"a\", encoding='utf8') as P_file:\n",
    "                            P_file.write(P)\n",
    "                    line = f.readline()\n",
    "                    cnt += 1\n",
    "          \n",
    "        "
   ]
  },
  {
   "cell_type": "code",
   "execution_count": null,
   "metadata": {
    "collapsed": true
   },
   "outputs": [],
   "source": []
  },
  {
   "cell_type": "code",
   "execution_count": null,
   "metadata": {
    "collapsed": true
   },
   "outputs": [],
   "source": []
  }
 ],
 "metadata": {
  "kernelspec": {
   "display_name": "py_36_env",
   "language": "python",
   "name": "py_36_env"
  },
  "language_info": {
   "codemirror_mode": {
    "name": "ipython",
    "version": 3
   },
   "file_extension": ".py",
   "mimetype": "text/x-python",
   "name": "python",
   "nbconvert_exporter": "python",
   "pygments_lexer": "ipython3",
   "version": "3.6.5"
  }
 },
 "nbformat": 4,
 "nbformat_minor": 2
}
