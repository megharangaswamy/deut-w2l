{
 "cells": [
  {
   "cell_type": "code",
   "execution_count": 3,
   "metadata": {
    "collapsed": true
   },
   "outputs": [],
   "source": [
    "import sys\n",
    "import nltk\n",
    "import codecs\n",
    "import natsort \n",
    "from os import listdir\n",
    "from os.path import isfile, join\n",
    "import pandas as pd\n",
    "import os\n",
    "import shutil"
   ]
  },
  {
   "cell_type": "code",
   "execution_count": 2,
   "metadata": {
    "collapsed": true
   },
   "outputs": [],
   "source": [
    "rootdir = \"/media/home/megha/5_wav2letter/WAV_2_LETTER/wav2letter/tutorials/0_deutsch_data/after_test\""
   ]
  },
  {
   "cell_type": "code",
   "execution_count": 5,
   "metadata": {},
   "outputs": [],
   "source": [
    "if True: #False  True\n",
    "    with open(\"/home/megha/Desktop/LM/\"+\"25_05_2019.txt\", \"a\") as write_file:\n",
    "        for Dir in natsort.natsorted(os.listdir(rootdir)):\n",
    "            for subDir in natsort.natsorted(os.listdir(rootdir+\"/\"+Dir)):\n",
    "                for file in natsort.natsorted(os.listdir(rootdir+\"/\"+Dir+\"/\"+subDir)):\n",
    "                    #print(file)\n",
    "                    for inside_file in natsort.natsorted(os.listdir(rootdir+\"/\"+Dir+\"/\"+subDir+\"/\"+file)):\n",
    "                        if(inside_file.endswith(\".txt\")):\n",
    "                            with codecs.open(rootdir+\"/\"+Dir+\"/\"+subDir+\"/\"+file+\"/\"+inside_file, 'r', encoding='utf8') as f:\n",
    "                                line = f.readline()\n",
    "                                cnt = 0\n",
    "                                while line:\n",
    "                                    line_split = line.split(\" \", 1)  \n",
    "                                    text_considered = line_split[-1]\n",
    "                                    for sentence in nltk.sent_tokenize(text_considered):\n",
    "                                        write_file.write(' '.join(nltk.word_tokenize(sentence)).lower()+'\\n')\n",
    "                                        #print(' '.join(nltk.word_tokenize(sentence)).lower())\n",
    "                                    line = f.readline()        \n",
    "                                    cnt += 1\n",
    "                                    "
   ]
  },
  {
   "cell_type": "code",
   "execution_count": null,
   "metadata": {
    "collapsed": true
   },
   "outputs": [],
   "source": []
  },
  {
   "cell_type": "code",
   "execution_count": null,
   "metadata": {
    "collapsed": true
   },
   "outputs": [],
   "source": []
  }
 ],
 "metadata": {
  "kernelspec": {
   "display_name": "py_36_env",
   "language": "python",
   "name": "py_36_env"
  },
  "language_info": {
   "codemirror_mode": {
    "name": "ipython",
    "version": 3
   },
   "file_extension": ".py",
   "mimetype": "text/x-python",
   "name": "python",
   "nbconvert_exporter": "python",
   "pygments_lexer": "ipython3",
   "version": "3.6.5"
  }
 },
 "nbformat": 4,
 "nbformat_minor": 2
}
