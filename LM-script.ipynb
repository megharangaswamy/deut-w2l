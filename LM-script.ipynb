{
 "cells": [
  {
   "cell_type": "code",
   "execution_count": 11,
   "metadata": {
    "collapsed": true
   },
   "outputs": [],
   "source": [
    "import webvtt\n",
    "from os import listdir\n",
    "from os.path import isfile, join\n",
    "import pandas as pd\n",
    "from pydub import AudioSegment\n",
    "import os\n",
    "import shutil\n",
    "import natsort \n",
    "\n",
    "import sys\n",
    "import re\n",
    "import fileinput"
   ]
  },
  {
   "cell_type": "code",
   "execution_count": 112,
   "metadata": {
    "collapsed": true
   },
   "outputs": [],
   "source": [
    "rootdir = \"/media/home/megha/5_wav2letter/WAV_2_LETTER/wav2letter_old/tutorials/0_deutsch_data/final_data/Munich_AI_data_9\""
   ]
  },
  {
   "cell_type": "code",
   "execution_count": 113,
   "metadata": {},
   "outputs": [],
   "source": [
    "if True: #False  True\n",
    "    for Dir in natsort.natsorted(os.listdir(rootdir)):\n",
    "        for subDir in natsort.natsorted(os.listdir(rootdir+\"/\"+Dir)):\n",
    "            for file in natsort.natsorted(os.listdir(rootdir+\"/\"+Dir+\"/\"+subDir)):\n",
    "                #print(file)\n",
    "                for inside_file in natsort.natsorted(os.listdir(rootdir+\"/\"+Dir+\"/\"+subDir+\"/\"+file)):\n",
    "                    if(inside_file.endswith(\".txt\")):\n",
    "                        for line in fileinput.FileInput(rootdir+\"/\"+Dir+\"/\"+subDir+\"/\"+file+\"/\"+inside_file, inplace=1):\n",
    "                                a = line.split(\" \", 1)[-1]\n",
    "                                a = re.sub('[&.,?“/…:|%!§0123456789-]', '', a)\n",
    "                                a = re.sub('[É]', 'E', a)\n",
    "                                a = re.sub('[À]', 'A', a)\n",
    "                                a = re.sub('[Á]', 'A', a)\n",
    "                                a = re.sub('[Í]', 'I', a)\n",
    "                                a = re.sub('[Ë]', 'E', a)\n",
    "                                a = re.sub('[Ê]', 'E', a)\n",
    "                                a = re.sub('[Ù]', 'U', a)\n",
    "                                a = re.sub('[Ô]', 'O', a)\n",
    "                                a = re.sub('[È]', 'E', a)\n",
    "                                a = re.sub('[È]', 'E', a)        \n",
    "                                print(line.split(\" \", 1)[0]+\" \"+a,end='')"
   ]
  }
 ],
 "metadata": {
  "kernelspec": {
   "display_name": "py_36_env",
   "language": "python",
   "name": "py_36_env"
  },
  "language_info": {
   "codemirror_mode": {
    "name": "ipython",
    "version": 3
   },
   "file_extension": ".py",
   "mimetype": "text/x-python",
   "name": "python",
   "nbconvert_exporter": "python",
   "pygments_lexer": "ipython3",
   "version": "3.6.5"
  }
 },
 "nbformat": 4,
 "nbformat_minor": 2
}
