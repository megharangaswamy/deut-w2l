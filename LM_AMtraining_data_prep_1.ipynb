{
 "cells": [
  {
   "cell_type": "code",
   "execution_count": 1,
   "metadata": {
    "collapsed": true
   },
   "outputs": [],
   "source": [
    "import sys\n",
    "import nltk\n",
    "import codecs\n",
    "import natsort \n",
    "from os import listdir\n",
    "from os.path import isfile, join\n",
    "import pandas as pd\n",
    "import os\n",
    "import shutil"
   ]
  },
  {
   "cell_type": "code",
   "execution_count": 2,
   "metadata": {},
   "outputs": [
    {
     "name": "stderr",
     "output_type": "stream",
     "text": [
      "[nltk_data] Downloading package punkt to /home/megha/nltk_data...\n",
      "[nltk_data]   Package punkt is already up-to-date!\n"
     ]
    },
    {
     "data": {
      "text/plain": [
       "True"
      ]
     },
     "execution_count": 2,
     "metadata": {},
     "output_type": "execute_result"
    }
   ],
   "source": [
    "nltk.download('punkt')"
   ]
  },
  {
   "cell_type": "code",
   "execution_count": 11,
   "metadata": {
    "collapsed": true
   },
   "outputs": [],
   "source": [
    "rootdir1 = \"/home/megha/language_model_0/bible.en.txt\"\n",
    "rootdir = \"/media/home/megha/5_wav2letter/WAV_2_LETTER/wav2letter/tutorials/0_deutsch_data/final_final\"\n",
    "rootdir2 = \"/home/megha/Desktop/e\""
   ]
  },
  {
   "cell_type": "code",
   "execution_count": 4,
   "metadata": {
    "collapsed": true,
    "scrolled": true
   },
   "outputs": [],
   "source": [
    "# this is just an error and trial code\n",
    "if False:\n",
    "    with open(\"/home/megha/Desktop/LM/bible_reference.txt\", \"a\") as write_file:\n",
    "        with codecs.open(rootdir, 'r', encoding='utf8') as f:\n",
    "            line = f.readline()\n",
    "            cnt = 0\n",
    "            while line:\n",
    "                each_line = line.strip()\n",
    "                line_split = line.split(\" \", 1)\n",
    "                for sentence in nltk.sent_tokenize(line_split[-1]):\n",
    "                    write_file.write(' '.join(nltk.word_tokenize(sentence)).lower())    \n",
    "                line = f.readline()        \n",
    "                cnt += 1"
   ]
  },
  {
   "cell_type": "code",
   "execution_count": 12,
   "metadata": {
    "collapsed": true
   },
   "outputs": [],
   "source": [
    "# final code for cleaning Alugha AM training datasets for LM training.\n",
    "\n",
    "\n",
    "punctuations = '''!,.?abcdefghijklmnopqrstuvwxyzäüößABCDEFGHIJKLMNOPQRSTUVWXYZÄÜÖẞ '''\n",
    "between_digits = ''',.0123456789'''\n",
    "if True:\n",
    "    with open(\"/home/megha/Desktop/LM/\"+\"AM_LM_data.txt\", \"a\") as write_file:\n",
    "        for mainDir in natsort.natsorted(os.listdir(rootdir)):\n",
    "            for Dir in natsort.natsorted(os.listdir(rootdir+\"/\"+mainDir)):\n",
    "                for subDir in natsort.natsorted(os.listdir(rootdir+\"/\"+mainDir+\"/\"+Dir)):\n",
    "                    for file in natsort.natsorted(os.listdir(rootdir+\"/\"+mainDir+\"/\"+Dir+\"/\"+subDir)):\n",
    "                        if(file.endswith(\".txt\")):\n",
    "                            with codecs.open(rootdir+\"/\"+mainDir+\"/\"+Dir+\"/\"+subDir+\"/\"+file, 'r', encoding='utf8') as f:\n",
    "                                line = f.readline()\n",
    "                                cnt = 0\n",
    "                                while line:\n",
    "                                    line_split = line.split(\" \", 1)  \n",
    "                                    text_considered = line_split[-1]\n",
    "                                    no_punct = \"\"\n",
    "                                    i = 0\n",
    "                                    while i < len(text_considered):\n",
    "                                        if(i != (len(text_considered)-1)):\n",
    "                                            if((text_considered[i].isdigit() and text_considered[i+1] in between_digits) or (text_considered[i] in between_digits and text_considered[i+1].isdigit())):\n",
    "                                                i = i+1\n",
    "                                            else:\n",
    "                                                if text_considered[i] in punctuations:\n",
    "                                                    no_punct = no_punct + text_considered[i]\n",
    "                                        else:\n",
    "                                            if text_considered[i] in punctuations:\n",
    "                                                no_punct = no_punct + text_considered[i]\n",
    "                                        i += 1\n",
    "                                    for sentence in nltk.sent_tokenize(no_punct):\n",
    "                                        write_file.write(' '.join(nltk.word_tokenize(sentence)).lower()+'\\n')\n",
    "                                        #print(' '.join(nltk.word_tokenize(sentence)).lower())\n",
    "                                    line = f.readline()        \n",
    "                                    cnt += 1"
   ]
  }
 ],
 "metadata": {
  "kernelspec": {
   "display_name": "py_36_env",
   "language": "python",
   "name": "py_36_env"
  },
  "language_info": {
   "codemirror_mode": {
    "name": "ipython",
    "version": 3
   },
   "file_extension": ".py",
   "mimetype": "text/x-python",
   "name": "python",
   "nbconvert_exporter": "python",
   "pygments_lexer": "ipython3",
   "version": "3.6.5"
  }
 },
 "nbformat": 4,
 "nbformat_minor": 2
}
