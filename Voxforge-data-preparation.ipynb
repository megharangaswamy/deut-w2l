{
 "cells": [
  {
   "cell_type": "code",
   "execution_count": null,
   "metadata": {
    "collapsed": true
   },
   "outputs": [],
   "source": [
    "import webvtt\n",
    "from os import listdir\n",
    "from os.path import isfile, join\n",
    "import pandas as pd\n",
    "from pydub import AudioSegment\n",
    "import os\n",
    "import shutil\n",
    "import natsort \n",
    "import fileinput\n",
    "import re"
   ]
  },
  {
   "cell_type": "code",
   "execution_count": null,
   "metadata": {
    "collapsed": true
   },
   "outputs": [],
   "source": [
    "rootdir=\"../Voxforge/pre-data\"\n",
    "backup = \"../Voxforge/backup\" # place holder for backup data\n"
   ]
  },
  {
   "cell_type": "code",
   "execution_count": null,
   "metadata": {
    "collapsed": true
   },
   "outputs": [],
   "source": [
    "\"\"\"\n",
    "voxforge\n",
    "\n",
    "step 1: Manually download audio files from (http://www.voxforge.org/home/forums/other-languages/german)\n",
    "step 2: Check wav file specification, Audio convertion: -wav, 16K Hz, mono channel   \n",
    "step 3: Renaming into flac file\n",
    "step 4: Rename the folder name and moving primpts_original into flac folder\n",
    "step 5: Renaming the transcript file \n",
    "\n",
    "\"\"\"\n",
    "\n",
    "# (a) Check wav file specification, Audio convertion: -wav, 16K Hz, mono channel   \n",
    "if True:    \n",
    "    for files in natsort.natsorted(os.listdir(rootdir)):\n",
    "        f = wave.open(rootdir1+\"/\"+files, 'r')\n",
    "        print(f.getnchannels())\n",
    "        print(f.getframerate())\n",
    "\n",
    "\n",
    "\n",
    "# (b) Renaming into flac file\n",
    "import wave\n",
    "import shutil\n",
    "if True:  \n",
    "    for Dir in natsort.natsorted(os.listdir(rootdir)):\n",
    "        for subdir in natsort.natsorted(os.listdir(rootdir+\"/\"+Dir)):\n",
    "            if(subdir == 'wav'):\n",
    "                for file in natsort.natsorted(os.listdir(rootdir+\"/\"+Dir+\"/\"+subdir)):\n",
    "                    if(file.endswith(\".wav\")):\n",
    "                        os.rename(rootdir+\"/\"+Dir+\"/\"+subdir+\"/\"+file,rootdir+\"/\"+Dir+\"/\"+subdir+\"/\"+file[:-4]+\".flac\")\n",
    "\n",
    "\n",
    "# (c) Rename the folder name and moving primpts_original into flac folder\n",
    "\n",
    "if True:\n",
    "    for Dir in natsort.natsorted(os.listdir(rootdir)):\n",
    "        for subdir in natsort.natsorted(os.listdir(rootdir+\"/\"+Dir)):\n",
    "            #print(subdir)\n",
    "\n",
    "            # move wav files to parent directory\n",
    "            if(subdir == 'wav' or subdir == 'flac' ):\n",
    "                for file in natsort.natsorted(os.listdir(rootdir+\"/\"+Dir+\"/\"+subdir)):\n",
    "                    shutil.move(rootdir+\"/\"+Dir+\"/\"+subdir+\"/\"+file,rootdir+\"/\"+Dir)                \n",
    "                    #move transcripts to parent directory\n",
    "            if(subdir == 'etc'):\n",
    "                for file in natsort.natsorted(os.listdir(rootdir+\"/\"+Dir+\"/\"+subdir)):\n",
    "                    if(file == \"prompts-original\"):\n",
    "                        shutil.move(rootdir+\"/\"+Dir+\"/\"+subdir+\"/\"+file,rootdir+\"/\"+Dir)                    \n",
    "            if(subdir == 'LICENSE'):\n",
    "                os.remove(rootdir+\"/\"+Dir+\"/\"+subdir) \n",
    "\n",
    "            if(subdir == 'wav' or subdir == 'flac' or subdir == 'etc'):\n",
    "                shutil.rmtree(rootdir+\"/\"+Dir+\"/\"+subdir)\n",
    "            \n",
    "# (d) Renaming the transcript file \n",
    "\n",
    "    if True:\n",
    "    file_name = ''\n",
    "    for Dir in natsort.natsorted(os.listdir(rootdir)):\n",
    "        print(Dir)\n",
    "        i = 1\n",
    "        for subdir in natsort.natsorted(os.listdir(rootdir+\"/\"+Dir)):\n",
    "            if(subdir.endswith(\".flac\")):\n",
    "                while i == 1:\n",
    "                    file_name = subdir.split('-')[-2] \n",
    "                    i = 0\n",
    "            for subdir in natsort.natsorted(os.listdir(rootdir+\"/\"+Dir)):  \n",
    "                if(subdir == 'prompts-original'):\n",
    "                    os.rename(rootdir+\"/\"+Dir+\"/\"+subdir,rootdir+\"/\"+Dir+\"/\"+file_name+\".trans.txt\")"
   ]
  },
  {
   "cell_type": "code",
   "execution_count": null,
   "metadata": {
    "collapsed": true
   },
   "outputs": [],
   "source": []
  }
 ],
 "metadata": {
  "kernelspec": {
   "display_name": "py_36_env",
   "language": "python",
   "name": "py_36_env"
  },
  "language_info": {
   "codemirror_mode": {
    "name": "ipython",
    "version": 3
   },
   "file_extension": ".py",
   "mimetype": "text/x-python",
   "name": "python",
   "nbconvert_exporter": "python",
   "pygments_lexer": "ipython3",
   "version": "3.6.5"
  }
 },
 "nbformat": 4,
 "nbformat_minor": 2
}
