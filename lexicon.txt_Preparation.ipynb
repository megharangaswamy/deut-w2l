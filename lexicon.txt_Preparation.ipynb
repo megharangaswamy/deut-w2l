{
 "cells": [
  {
   "cell_type": "code",
   "execution_count": 11,
   "metadata": {},
   "outputs": [],
   "source": [
    "import webvtt\n",
    "from os import listdir\n",
    "from os.path import isfile, join\n",
    "import pandas as pd\n",
    "from pydub import AudioSegment\n",
    "import os\n",
    "import shutil\n",
    "import natsort \n",
    "import re"
   ]
  },
  {
   "cell_type": "code",
   "execution_count": 3,
   "metadata": {},
   "outputs": [],
   "source": [
    "rootdir = \"/media/home/megha/5_wav2letter/WAV_2_LETTER/wav2letter/tutorials/output/lm\""
   ]
  },
  {
   "cell_type": "code",
   "execution_count": 208,
   "metadata": {
    "scrolled": true
   },
   "outputs": [
    {
     "name": "stdout",
     "output_type": "stream",
     "text": [
      "generic_de_lang_model_large-r20190423.arpa\n",
      "Writing Lexicon file\n",
      "lexicon.txt\n"
     ]
    }
   ],
   "source": [
    "for file in natsort.natsorted(os.listdir(rootdir)):\n",
    "    print(file)\n",
    "    if(file.endswith(\".arpa\")):\n",
    "        with open(rootdir+\"/\"+file, \"r\") as arpa:\n",
    "            # write words to lexicon.txt file\n",
    "            print(\"Writing Lexicon file\")\n",
    "            with open(rootdir+\"/lexicon.txt\", \"a\") as f:\n",
    "                    for line in arpa:\n",
    "                        # verify if the line corresponds to unigram\n",
    "                        if not re.match(r\"[-]*[0-9\\.]+\\t\\S+\\t*[-]*[0-9\\.]*$\", line):\n",
    "                            continue\n",
    "                        word = line.split(\"\\t\")[1]\n",
    "                        word = word.strip().lower()\n",
    "                        if word == \"<unk>\" or word == \"<s>\" or word == \"</s>\":\n",
    "                            continue\n",
    "                        #assert re.match(\"^[A-Z a-z äüöß']+$\", word), \"invalid word - {w}\".format(w=word)\n",
    "                        assert re.match(\"^[A-Z a-z äëïöüÿ ãõñ ėůåăőāīťūķđģņēșōõøúț áéíίúόóśćŕńýźά âêîôûŵĉŝ ǎěǐŏščžğǔř àèìòùň μżæðėąęçşľļĺ  …~〈 〉^ı₂°αųþήβχρητω舣ν¨ł€δεß¡ºø|¼½¾ m³/ц−—}¶{•­%¿ιν§ªι_µʻm²‚¹ď£‘`´‟”≤±φ¸˚·независимая газета αρχίζει добър дошли aţi σιδηροκέφαλος κratsa κοmmission συνεδρίαση отвечаешь tы чужой танки опасности отечество λήξη ψηφοφορία ευχαριστώ λήγει στις κύριε πρόεδρε” cœur 0-9']+$\", word), \"invalid word - {w}\".format(w=word) \n",
    "                        # ^ Matches beginning of line.\n",
    "                        # $ Matches end of line.\n",
    "                        # + Matches 1 or more occurrence of preceding expression.\n",
    "                        # \n",
    "                        f.write(\"{w}\\t{s}\\n\".format(w=word, s=\" \".join(word)))\n",
    "                        # sort it according to alphabets\n"
   ]
  }
 ],
 "metadata": {
  "kernelspec": {
   "display_name": "py_36_env",
   "language": "python",
   "name": "py_36_env"
  },
  "language_info": {
   "codemirror_mode": {
    "name": "ipython",
    "version": 3
   },
   "file_extension": ".py",
   "mimetype": "text/x-python",
   "name": "python",
   "nbconvert_exporter": "python",
   "pygments_lexer": "ipython3",
   "version": "3.6.5"
  }
 },
 "nbformat": 4,
 "nbformat_minor": 2
}
